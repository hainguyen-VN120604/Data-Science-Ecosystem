{
 "cells": [
  {
   "cell_type": "markdown",
   "id": "a441f429-175b-4427-bf9b-23874a2176ce",
   "metadata": {},
   "source": [
    "# Data Science Tools and Ecosystem"
   ]
  },
  {
   "cell_type": "markdown",
   "id": "96d0bef2-1444-4e36-b232-2a0cc37048dc",
   "metadata": {},
   "source": [
    "In this notebook, Data Science Tools and Ecosystem are summarized."
   ]
  },
  {
   "cell_type": "markdown",
   "id": "12889330-7d26-4c76-97bf-cc3d9029a369",
   "metadata": {},
   "source": [
    "Some of the popular languages that Data Scientists use are:\n",
    "1. Python\n",
    "2. Java\n",
    "3. C++"
   ]
  },
  {
   "cell_type": "markdown",
   "id": "65eaa939-f19a-473f-aafb-0c5c255892ff",
   "metadata": {},
   "source": [
    "Some of the commonly used libraries used by Data Scientists include:\n",
    "1. Ggplot\n",
    "2. Caret\n",
    "3. Numpy"
   ]
  },
  {
   "cell_type": "markdown",
   "id": "a7e05248-0596-4aff-8507-b982562763ea",
   "metadata": {},
   "source": [
    "### Below are a few examples of evaluating arithmetic expressions in Python"
   ]
  },
  {
   "cell_type": "code",
   "execution_count": 13,
   "id": "4e5d29fe-dd4a-4b05-a9d4-57f5bc3ef131",
   "metadata": {},
   "outputs": [
    {
     "data": {
      "text/plain": [
       "17"
      ]
     },
     "execution_count": 13,
     "metadata": {},
     "output_type": "execute_result"
    }
   ],
   "source": [
    "(3*4)+5"
   ]
  },
  {
   "cell_type": "code",
   "execution_count": 28,
   "id": "02457e12-9081-4f4a-96bd-b36afb41ba33",
   "metadata": {},
   "outputs": [
    {
     "name": "stdout",
     "output_type": "stream",
     "text": [
      "Convert 200 minutes to hours 200 minutes = 3.33 hours\n"
     ]
    }
   ],
   "source": [
    "time = 200/60"
   ]
  },
  {
   "cell_type": "markdown",
   "id": "1425636f-5536-4218-83b0-5309530b2567",
   "metadata": {},
   "source": [
    "|Data Science Tools|\n",
    "|------------------|\n",
    "|Anaconda|\n",
    "|Jupyter Note|\n",
    "|Github|"
   ]
  },
  {
   "cell_type": "markdown",
   "id": "423d0a03-66aa-41f7-8a09-6f1e06ff219f",
   "metadata": {},
   "source": [
    "_Objectives_\n",
    "* Some of the popular languages\n",
    "* Some of the commonly used libraries\n",
    "* Data Science Tools"
   ]
  },
  {
   "cell_type": "markdown",
   "id": "00f67d02-5508-487e-8ff4-4615304da877",
   "metadata": {},
   "source": [
    "## Author\n",
    "Chau Hai Nguyen "
   ]
  },
  {
   "cell_type": "code",
   "execution_count": null,
   "id": "119fa072-1594-4905-8518-8c75503a3bbd",
   "metadata": {},
   "outputs": [],
   "source": []
  }
 ],
 "metadata": {
  "kernelspec": {
   "display_name": "Python 3 (ipykernel)",
   "language": "python",
   "name": "python3"
  },
  "language_info": {
   "codemirror_mode": {
    "name": "ipython",
    "version": 3
   },
   "file_extension": ".py",
   "mimetype": "text/x-python",
   "name": "python",
   "nbconvert_exporter": "python",
   "pygments_lexer": "ipython3",
   "version": "3.12.4"
  }
 },
 "nbformat": 4,
 "nbformat_minor": 5
}
